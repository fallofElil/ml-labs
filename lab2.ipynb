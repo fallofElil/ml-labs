{
 "cells": [
  {
   "cell_type": "code",
   "execution_count": 8,
   "id": "6c4e9f3c-e78c-4338-b953-bfae6451dfe6",
   "metadata": {},
   "outputs": [],
   "source": [
    "import pandas as pd\n",
    "\n",
    "data = pd.read_csv('exams.csv')\n",
    "\n",
    "def calculate_mark(score):\n",
    "    if 82 <= score <= 100:\n",
    "        return 5\n",
    "    elif 65 <= score <= 81:\n",
    "        return 4\n",
    "    elif 45 <= score <= 64:\n",
    "        return 3\n",
    "    else:\n",
    "        return 2\n",
    "\n",
    "data['math mark'] = data['math score'].apply(calculate_mark)\n",
    "data['reading mark'] = data['reading score'].apply(calculate_mark)\n",
    "data['writing mark'] = data['writing score'].apply(calculate_mark)\n",
    "\n",
    "data.to_csv('exams_with_marks.csv', index=False)"
   ]
  },
  {
   "cell_type": "markdown",
   "id": "d094fdf9-8081-4a95-99a6-86a7bf4ead33",
   "metadata": {},
   "source": [
    "## Precision (Точность):\n",
    "Точность измеряет, насколько точными оказались положительные прогнозы модели. В данном случае, это означает, насколько точно модель предсказывает каждую категорию оценок (2, 3, 4, 5).\n",
    "\n",
    "Точность позволяет оценить, сколько из прогнозов модели действительно верных (правильных) с точки зрения каждой категории.\n",
    "\n",
    "## Recall (Полнота):\n",
    "Полнота измеряет способность модели выявлять все реальные положительные случаи. В вашем случае, это означает, насколько хорошо модель улавливает каждую категорию \"оценок\" среди всех фактических категорий.\n",
    "\n",
    "Полнота позволяет оценить, сколько из всех реальных случаев каждой категории модель смогла правильно предсказать.\n",
    "\n",
    "## F1-Score (F1-мера):\n",
    "F1-Score представляет собой гармоническое среднее между точностью и полнотой. Она позволяет сбалансировать их, что особенно полезно, когда у нет явного предпочтения между точностью и полнотой.\n",
    "\n",
    "F1-Score подходит для ситуаций, когда важно достичь хорошей точности и в то же время не упустить ни одного положительного случая."
   ]
  },
  {
   "cell_type": "code",
   "execution_count": 29,
   "id": "3bfe8968-4420-40ca-9d9c-20efec9b5a0b",
   "metadata": {},
   "outputs": [
    {
     "name": "stdout",
     "output_type": "stream",
     "text": [
      "              precision    recall  f1-score   support\n",
      "\n",
      "           2       0.62      0.38      0.48        13\n",
      "           3       0.75      0.76      0.76        76\n",
      "           4       0.64      0.76      0.69        76\n",
      "           5       0.71      0.49      0.58        35\n",
      "\n",
      "    accuracy                           0.69       200\n",
      "   macro avg       0.68      0.60      0.63       200\n",
      "weighted avg       0.69      0.69      0.68       200\n",
      "\n",
      "Mean Squared Error: 0.31\n"
     ]
    },
    {
     "data": {
      "image/png": "[encoded data removed]",
      "text/plain": [
       "<Figure size 640x480 with 2 Axes>"
      ]
     },
     "metadata": {},
     "output_type": "display_data"
    }
   ],
   "source": [
    "import pandas as pd\n",
    "from sklearn.model_selection import train_test_split\n",
    "from sklearn.neighbors import KNeighborsClassifier\n",
    "from sklearn.preprocessing import StandardScaler, LabelEncoder\n",
    "from sklearn.metrics import classification_report, confusion_matrix, ConfusionMatrixDisplay, mean_squared_error\n",
    "import matplotlib.pyplot as plt\n",
    "\n",
    "data = pd.read_csv('exams_with_marks.csv')\n",
    "\n",
    "label_encoder = LabelEncoder()\n",
    "\n",
    "# Encoding categorical variables\n",
    "categorical_vars = ['gender', 'race/ethnicity', 'parental level of education', 'lunch', 'test preparation course']\n",
    "for col in categorical_vars:\n",
    "    data[col] = label_encoder.fit_transform(data[col])\n",
    "\n",
    "X = data.drop(['math score', 'reading score', 'writing score', 'math mark'], axis=1)  # Features\n",
    "y = data['math mark']  # Target variable\n",
    "\n",
    "X_train, X_test, y_train, y_test = train_test_split(X, y, test_size=0.2, random_state=42)\n",
    "\n",
    "scaler = StandardScaler()\n",
    "X_train = scaler.fit_transform(X_train)\n",
    "X_test = scaler.transform(X_test)\n",
    "\n",
    "knn = KNeighborsClassifier(n_neighbors=5)\n",
    "knn.fit(X_train, y_train)\n",
    "\n",
    "predictions = knn.predict(X_test)\n",
    "\n",
    "mse = mean_squared_error(y_test, predictions)\n",
    "\n",
    "print(classification_report(y_test, predictions))\n",
    "\n",
    "print(\"Mean Squared Error:\", mse)\n",
    "\n",
    "cm = confusion_matrix(y_test, predictions)\n",
    "labels = sorted(y.unique())\n",
    "disp = ConfusionMatrixDisplay(confusion_matrix=cm, display_labels=labels)\n",
    "disp.plot()\n",
    "\n",
    "plt.show()"
   ]
  },
  {
   "cell_type": "code",
   "execution_count": null,
   "id": "52e6aa19-df57-4d49-a665-4765009f6c25",
   "metadata": {},
   "outputs": [],
   "source": []
  }
 ],
 "metadata": {
  "kernelspec": {
   "display_name": "Python 3 (ipykernel)",
   "language": "python",
   "name": "python3"
  },
  "language_info": {
   "codemirror_mode": {
    "name": "ipython",
    "version": 3
   },
   "file_extension": ".py",
   "mimetype": "text/x-python",
   "name": "python",
   "nbconvert_exporter": "python",
   "pygments_lexer": "ipython3",
   "version": "3.10.12"
  }
 },
 "nbformat": 4,
 "nbformat_minor": 5
}
